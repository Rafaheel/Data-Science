{
 "cells": [
  {
   "cell_type": "code",
   "execution_count": 9,
   "metadata": {},
   "outputs": [
    {
     "ename": "ModuleNotFoundError",
     "evalue": "No module named 'pydotplus'",
     "output_type": "error",
     "traceback": [
      "\u001b[1;31m---------------------------------------------------------------------------\u001b[0m",
      "\u001b[1;31mModuleNotFoundError\u001b[0m                       Traceback (most recent call last)",
      "\u001b[1;32m<ipython-input-9-daa9d4a457a0>\u001b[0m in \u001b[0;36m<module>\u001b[1;34m\u001b[0m\n\u001b[0;32m      7\u001b[0m \u001b[1;32mfrom\u001b[0m \u001b[0msklearn\u001b[0m\u001b[1;33m.\u001b[0m\u001b[0mmodel_selection\u001b[0m \u001b[1;32mimport\u001b[0m \u001b[0mtrain_test_split\u001b[0m\u001b[1;33m\u001b[0m\u001b[1;33m\u001b[0m\u001b[0m\n\u001b[0;32m      8\u001b[0m \u001b[1;32mfrom\u001b[0m \u001b[0msklearn\u001b[0m\u001b[1;33m.\u001b[0m\u001b[0mexternals\u001b[0m\u001b[1;33m.\u001b[0m\u001b[0msix\u001b[0m \u001b[1;32mimport\u001b[0m \u001b[0mStringIO\u001b[0m\u001b[1;33m\u001b[0m\u001b[1;33m\u001b[0m\u001b[0m\n\u001b[1;32m----> 9\u001b[1;33m \u001b[1;32mimport\u001b[0m \u001b[0mpydotplus\u001b[0m\u001b[1;33m\u001b[0m\u001b[1;33m\u001b[0m\u001b[0m\n\u001b[0m\u001b[0;32m     10\u001b[0m \u001b[1;32mimport\u001b[0m \u001b[0mmatplotlib\u001b[0m\u001b[1;33m.\u001b[0m\u001b[0mimage\u001b[0m \u001b[1;32mas\u001b[0m \u001b[0mmpimg\u001b[0m\u001b[1;33m\u001b[0m\u001b[1;33m\u001b[0m\u001b[0m\n\u001b[0;32m     11\u001b[0m \u001b[1;32mfrom\u001b[0m \u001b[0msklearn\u001b[0m\u001b[1;33m.\u001b[0m\u001b[0mmetrics\u001b[0m \u001b[1;32mimport\u001b[0m \u001b[0mclassification_report\u001b[0m\u001b[1;33m,\u001b[0m \u001b[0mconfusion_matrix\u001b[0m\u001b[1;33m,\u001b[0m \u001b[0maccuracy_score\u001b[0m\u001b[1;33m\u001b[0m\u001b[1;33m\u001b[0m\u001b[0m\n",
      "\u001b[1;31mModuleNotFoundError\u001b[0m: No module named 'pydotplus'"
     ]
    }
   ],
   "source": [
    "import numpy as np\n",
    "import itertools\n",
    "import pandas as pd\n",
    "import matplotlib.pyplot as plt\n",
    "from sklearn.tree import DecisionTreeClassifier, export_graphviz\n",
    "from sklearn import preprocessing\n",
    "from sklearn.model_selection import train_test_split\n",
    "from sklearn.externals.six import StringIO\n",
    "import pydotplus\n",
    "import matplotlib.image as mpimg\n",
    "from sklearn.metrics import classification_report, confusion_matrix, accuracy_score\n",
    "from IPython.display import Image "
   ]
  },
  {
   "cell_type": "code",
   "execution_count": 35,
   "metadata": {},
   "outputs": [],
   "source": [
    "df = pd.read_csv(\"https://raw.githubusercontent.com/diogocortiz/Crash-Course-IA/master/ArvoreDecis%C3%A3o/dataset_einstein.csv\",\n",
    "                sep = \";\")"
   ]
  },
  {
   "cell_type": "code",
   "execution_count": 30,
   "metadata": {},
   "outputs": [
    {
     "name": "stdout",
     "output_type": "stream",
     "text": [
      "  Patient ID;Patient age quantile;SARS-Cov-2 exam result;Patient addmited to regular ward (1=yes. 0=no);Patient addmited to semi-intensive unit (1=yes. 0=no);Patient addmited to intensive care unit (1=yes. 0=no);Hemoglobin;Leukocytes;Basophils;Proteina C reativa mg/dL;Creatinine\n",
      "0             44477f75e8169d2;13;negative;0;0;0;;;;;                                                                                                                                                                                                                                   \n",
      "1  126e9dd13932f68;17;negative;0;0;0;-0.022340268...                                                                                                                                                                                                                                   \n",
      "2              a46b4402a0e5696;8;negative;0;0;0;;;;;                                                                                                                                                                                                                                   \n",
      "3              f7d619a94f97c45;5;negative;0;0;0;;;;;                                                                                                                                                                                                                                   \n",
      "4             d9e41465789c2b5;15;negative;0;0;0;;;;;                                                                                                                                                                                                                                   \n"
     ]
    }
   ],
   "source": [
    "print(df.head(5))\n",
    " "
   ]
  },
  {
   "cell_type": "code",
   "execution_count": 24,
   "metadata": {},
   "outputs": [],
   "source": [
    "Row = df.shape[0]\n",
    "Col = df.shape[1]"
   ]
  },
  {
   "cell_type": "code",
   "execution_count": 25,
   "metadata": {},
   "outputs": [
    {
     "name": "stdout",
     "output_type": "stream",
     "text": [
      "5644\n",
      "1\n"
     ]
    }
   ],
   "source": [
    "print(Row)\n",
    "print(Col)"
   ]
  },
  {
   "cell_type": "code",
   "execution_count": 26,
   "metadata": {},
   "outputs": [
    {
     "name": "stdout",
     "output_type": "stream",
     "text": [
      "  Patient ID;Patient age quantile;SARS-Cov-2 exam result;Patient addmited to regular ward (1=yes. 0=no);Patient addmited to semi-intensive unit (1=yes. 0=no);Patient addmited to intensive care unit (1=yes. 0=no);Hemoglobin;Leukocytes;Basophils;Proteina C reativa mg/dL;Creatinine\n",
      "0             44477f75e8169d2;13;negative;0;0;0;;;;;                                                                                                                                                                                                                                   \n",
      "1  126e9dd13932f68;17;negative;0;0;0;-0.022340268...                                                                                                                                                                                                                                   \n",
      "2              a46b4402a0e5696;8;negative;0;0;0;;;;;                                                                                                                                                                                                                                   \n",
      "3              f7d619a94f97c45;5;negative;0;0;0;;;;;                                                                                                                                                                                                                                   \n",
      "4             d9e41465789c2b5;15;negative;0;0;0;;;;;                                                                                                                                                                                                                                   \n"
     ]
    }
   ],
   "source": [
    "df. dropna()\n",
    "print(df.head(5))"
   ]
  },
  {
   "cell_type": "code",
   "execution_count": 34,
   "metadata": {},
   "outputs": [
    {
     "data": {
      "text/html": [
       "<div>\n",
       "<style scoped>\n",
       "    .dataframe tbody tr th:only-of-type {\n",
       "        vertical-align: middle;\n",
       "    }\n",
       "\n",
       "    .dataframe tbody tr th {\n",
       "        vertical-align: top;\n",
       "    }\n",
       "\n",
       "    .dataframe thead th {\n",
       "        text-align: right;\n",
       "    }\n",
       "</style>\n",
       "<table border=\"1\" class=\"dataframe\">\n",
       "  <thead>\n",
       "    <tr style=\"text-align: right;\">\n",
       "      <th></th>\n",
       "      <th>Patient ID;Patient age quantile;SARS-Cov-2 exam result;Patient addmited to regular ward (1=yes. 0=no);Patient addmited to semi-intensive unit (1=yes. 0=no);Patient addmited to intensive care unit (1=yes. 0=no);Hemoglobin;Leukocytes;Basophils;Proteina C reativa mg/dL;Creatinine</th>\n",
       "    </tr>\n",
       "  </thead>\n",
       "  <tbody>\n",
       "    <tr>\n",
       "      <th>0</th>\n",
       "      <td>44477f75e8169d2;13;negative;0;0;0;;;;;</td>\n",
       "    </tr>\n",
       "    <tr>\n",
       "      <th>1</th>\n",
       "      <td>126e9dd13932f68;17;negative;0;0;0;-0.022340268...</td>\n",
       "    </tr>\n",
       "    <tr>\n",
       "      <th>2</th>\n",
       "      <td>a46b4402a0e5696;8;negative;0;0;0;;;;;</td>\n",
       "    </tr>\n",
       "    <tr>\n",
       "      <th>3</th>\n",
       "      <td>f7d619a94f97c45;5;negative;0;0;0;;;;;</td>\n",
       "    </tr>\n",
       "    <tr>\n",
       "      <th>4</th>\n",
       "      <td>d9e41465789c2b5;15;negative;0;0;0;;;;;</td>\n",
       "    </tr>\n",
       "    <tr>\n",
       "      <th>...</th>\n",
       "      <td>...</td>\n",
       "    </tr>\n",
       "    <tr>\n",
       "      <th>5639</th>\n",
       "      <td>ae66feb9e4dc3a0;3;positive;0;0;0;;;;;</td>\n",
       "    </tr>\n",
       "    <tr>\n",
       "      <th>5640</th>\n",
       "      <td>517c2834024f3ea;17;negative;0;0;0;;;;;</td>\n",
       "    </tr>\n",
       "    <tr>\n",
       "      <th>5641</th>\n",
       "      <td>5c57d6037fe266d;4;negative;0;0;0;;;;;</td>\n",
       "    </tr>\n",
       "    <tr>\n",
       "      <th>5642</th>\n",
       "      <td>c20c44766f28291;10;negative;0;0;0;;;;;</td>\n",
       "    </tr>\n",
       "    <tr>\n",
       "      <th>5643</th>\n",
       "      <td>2697fdccbfeb7f7;19;positive;0;0;0;0.541563928;...</td>\n",
       "    </tr>\n",
       "  </tbody>\n",
       "</table>\n",
       "<p>5644 rows × 1 columns</p>\n",
       "</div>"
      ],
      "text/plain": [
       "     Patient ID;Patient age quantile;SARS-Cov-2 exam result;Patient addmited to regular ward (1=yes. 0=no);Patient addmited to semi-intensive unit (1=yes. 0=no);Patient addmited to intensive care unit (1=yes. 0=no);Hemoglobin;Leukocytes;Basophils;Proteina C reativa mg/dL;Creatinine\n",
       "0                44477f75e8169d2;13;negative;0;0;0;;;;;                                                                                                                                                                                                                                   \n",
       "1     126e9dd13932f68;17;negative;0;0;0;-0.022340268...                                                                                                                                                                                                                                   \n",
       "2                 a46b4402a0e5696;8;negative;0;0;0;;;;;                                                                                                                                                                                                                                   \n",
       "3                 f7d619a94f97c45;5;negative;0;0;0;;;;;                                                                                                                                                                                                                                   \n",
       "4                d9e41465789c2b5;15;negative;0;0;0;;;;;                                                                                                                                                                                                                                   \n",
       "...                                                 ...                                                                                                                                                                                                                                   \n",
       "5639              ae66feb9e4dc3a0;3;positive;0;0;0;;;;;                                                                                                                                                                                                                                   \n",
       "5640             517c2834024f3ea;17;negative;0;0;0;;;;;                                                                                                                                                                                                                                   \n",
       "5641              5c57d6037fe266d;4;negative;0;0;0;;;;;                                                                                                                                                                                                                                   \n",
       "5642             c20c44766f28291;10;negative;0;0;0;;;;;                                                                                                                                                                                                                                   \n",
       "5643  2697fdccbfeb7f7;19;positive;0;0;0;0.541563928;...                                                                                                                                                                                                                                   \n",
       "\n",
       "[5644 rows x 1 columns]"
      ]
     },
     "execution_count": 34,
     "metadata": {},
     "output_type": "execute_result"
    }
   ],
   "source": [
    "df.replace (str.split(\";\"))  "
   ]
  },
  {
   "cell_type": "code",
   "execution_count": null,
   "metadata": {},
   "outputs": [],
   "source": []
  }
 ],
 "metadata": {
  "kernelspec": {
   "display_name": "Python 3",
   "language": "python",
   "name": "python3"
  },
  "language_info": {
   "codemirror_mode": {
    "name": "ipython",
    "version": 3
   },
   "file_extension": ".py",
   "mimetype": "text/x-python",
   "name": "python",
   "nbconvert_exporter": "python",
   "pygments_lexer": "ipython3",
   "version": "3.7.6"
  }
 },
 "nbformat": 4,
 "nbformat_minor": 4
}
